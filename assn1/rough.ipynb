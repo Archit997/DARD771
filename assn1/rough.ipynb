{
 "cells": [
  {
   "cell_type": "code",
   "execution_count": null,
   "metadata": {},
   "outputs": [],
   "source": [
    "penalties = ['l1','l2']\n",
    "losses = ['hinge','squared_hinge']\n",
    "errors = {}\n",
    "times = {}\n",
    "# errors{loss:{penalty:value}}\n"
   ]
  },
  {
   "cell_type": "code",
   "execution_count": null,
   "metadata": {},
   "outputs": [],
   "source": [
    "for loss in losses:\n",
    "    err_dict = {}\n",
    "    time_dict = {}\n",
    "    for penalty in penalties:\n",
    "        model = svm.SVC(loss = loss,penalty = penalty)\n",
    "        err,time = error_time(model)\n",
    "        err_dict[penalty] = err\n",
    "        time_dict[penalty] = time\n",
    "    errors[loss] = err_dict\n",
    "    times[loss] = time_dict"
   ]
  },
  {
   "cell_type": "code",
   "execution_count": null,
   "metadata": {},
   "outputs": [],
   "source": [
    "save_errors_path = 'logs/SVC_penaltyVSloss_errors.json'\n",
    "save_times_path = 'logs/SVC_penaltyVSloss_times.json'\n",
    "with open(save_errors_path,'w') as f:\n",
    "    json.dump(errors,f)\n",
    "with open(save_times_path,'w') as f:\n",
    "    json.dump(times,f)"
   ]
  },
  {
   "cell_type": "code",
   "execution_count": null,
   "metadata": {},
   "outputs": [],
   "source": [
    "solvers = list(times.keys())\n",
    "penalties = ['l1', 'l2']  \n",
    "# For train_time>20sec\n",
    "#times['newton-cg']['None'] = 0.0\n",
    "#times['liblinear']['l1'] = 0.0\n",
    "\n",
    "#none_errors = [times[solver]['None'] for solver in solvers]\n",
    "l1_errors = [times[solver]['l1'] for solver in solvers]\n",
    "l2_errors = [times[solver]['l2'] for solver in solvers]\n",
    "\n",
    "n = len(solvers)  \n",
    "r = np.arange(n)  \n",
    "width = 0.25 \n",
    "\n",
    "plt.figure(figsize=(10, 6))\n",
    "\n",
    "#plt.bar(r, none_errors, color='b', width=width, edgecolor='grey', label='None')\n",
    "plt.bar(r + width, l1_errors, color='g', width=width, edgecolor='grey', label='l1')\n",
    "plt.bar(r + 2*width, l2_errors, color='r', width=width, edgecolor='grey', label='l2')\n",
    "\n",
    "plt.xlabel('Losses', fontweight='bold')\n",
    "plt.xticks([r + width for r in range(n)], solvers)\n",
    "plt.ylabel('error %')\n",
    "plt.legend()\n",
    "\n",
    "plt.savefig('plots/SVC_loss_penalty_errors.jpg')\n",
    "\n",
    "plt.show()"
   ]
  },
  {
   "cell_type": "code",
   "execution_count": null,
   "metadata": {},
   "outputs": [],
   "source": [
    "solvers = list(errors.keys())\n",
    "penalties = ['l1', 'l2']  \n",
    "# For train_time>20sec\n",
    "#times['newton-cg']['None'] = 0.0\n",
    "#times['liblinear']['l1'] = 0.0\n",
    "\n",
    "#none_errors = [times[solver]['None'] for solver in solvers]\n",
    "l1_errors = [times[solver]['l1'] for solver in solvers]\n",
    "l2_errors = [times[solver]['l2'] for solver in solvers]\n",
    "\n",
    "n = len(solvers)  \n",
    "r = np.arange(n)  \n",
    "width = 0.25 \n",
    "\n",
    "plt.figure(figsize=(10, 6))\n",
    "\n",
    "#plt.bar(r, none_errors, color='b', width=width, edgecolor='grey', label='None')\n",
    "plt.bar(r + width, l1_errors, color='g', width=width, edgecolor='grey', label='l1')\n",
    "plt.bar(r + 2*width, l2_errors, color='r', width=width, edgecolor='grey', label='l2')\n",
    "\n",
    "plt.xlabel('Losses', fontweight='bold')\n",
    "plt.xticks([r + width for r in range(n)], solvers)\n",
    "plt.ylabel('train_time(sec)')\n",
    "plt.legend()\n",
    "\n",
    "plt.savefig('plots/SVC_loss_penalty_times.jpg')\n",
    "\n",
    "plt.show()"
   ]
  }
 ],
 "metadata": {
  "language_info": {
   "name": "python"
  }
 },
 "nbformat": 4,
 "nbformat_minor": 2
}
