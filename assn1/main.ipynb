{
 "cells": [
  {
   "cell_type": "code",
   "execution_count": 1,
   "metadata": {},
   "outputs": [],
   "source": [
    "import numpy as np\n",
    "import time\n",
    "import sklearn"
   ]
  },
  {
   "cell_type": "code",
   "execution_count": 2,
   "metadata": {},
   "outputs": [],
   "source": [
    "data = np.loadtxt('train.dat').astype(np.int64)"
   ]
  },
  {
   "cell_type": "markdown",
   "metadata": {},
   "source": [
    "## Tasks\n",
    "- Prepare Feature Map\n",
    "- Split Train data - train + val\n",
    "- train on train data and hyper parameter tuning on val data till get best accuracy (r-2) on val data\n",
    "\n",
    "## Models to Try\n",
    "\n",
    "- LinearSVC\n",
    "- LogisticRegression\n",
    "- Ridge Regression\n",
    "- Lasso Regression\n",
    "\n",
    "\n",
    "## Experiments to try\n",
    "\n",
    "- Loss parameter in SVC (hinge loss vs sqaured hinge loss)\n",
    "- Iterating over C in SVC\n",
    "- Iterating over tol in SVC and logistic Regression \n",
    "- Changing penalty in SVC and l2-l1 in logistic regression\n"
   ]
  },
  {
   "cell_type": "code",
   "execution_count": 3,
   "metadata": {},
   "outputs": [
    {
     "name": "stdout",
     "output_type": "stream",
     "text": [
      "y.shape (40000,)\n",
      "X.shape (40000, 32)\n"
     ]
    }
   ],
   "source": [
    "y = data[:,data.shape[1]-1]\n",
    "X = data[:,:data.shape[1]-1]\n",
    "print(f\"y.shape {y.shape}\")\n",
    "print(f\"X.shape {X.shape}\")\n"
   ]
  },
  {
   "cell_type": "code",
   "execution_count": 4,
   "metadata": {},
   "outputs": [],
   "source": [
    "def feature_map_method1(X):\n",
    "    X = 1-2*X\n",
    "    D = X.shape[1]\n",
    "    for i in range(1,D):\n",
    "        X[:,D-i-1] = X[:,D-i-1] * X[:,D-i]\n",
    "    \n",
    "    n_samples, n_features = X.shape\n",
    "    outer_product = np.einsum('ij,ik->ijk', X, X)\n",
    "    upper_triangle_indices = np.triu_indices(n_features,k=1)\n",
    "    features = outer_product[:, upper_triangle_indices[0], upper_triangle_indices[1]]\n",
    "\n",
    "    result = np.concatenate((X,features),axis=1)\n",
    "\n",
    "    return result\n",
    "\n",
    "def feature_map_method2(X):\n",
    "    X = 1-2*X\n",
    "    X_rev = X[:,::-1]\n",
    "    X_prod = np.cumprod(X_rev,axis=1)\n",
    "    X = X_prod[:,::-1]\n",
    "    \n",
    "    n_samples, n_features = X.shape\n",
    "    outer_product = np.einsum('ij,ik->ijk', X, X)\n",
    "    upper_triangle_indices = np.triu_indices(n_features,k=1)\n",
    "    features = outer_product[:, upper_triangle_indices[0], upper_triangle_indices[1]]\n",
    "\n",
    "    result = np.concatenate((X,features),axis=1)\n",
    "\n",
    "    return result\n",
    "\n"
   ]
  },
  {
   "cell_type": "markdown",
   "metadata": {},
   "source": [
    "Khatri-Rao is bullcrap crashes the kernel"
   ]
  },
  {
   "cell_type": "code",
   "execution_count": 5,
   "metadata": {},
   "outputs": [
    {
     "name": "stdout",
     "output_type": "stream",
     "text": [
      "Time for execution:0.4768810272216797\n",
      "(40000, 32)\n"
     ]
    }
   ],
   "source": [
    "X = data[:,:data.shape[1]-1]\n",
    "start = time.time()\n",
    "X_changed = feature_map_method2(X)\n",
    "end = time.time()\n",
    "print(f\"Time for execution:{end-start}\")\n",
    "print(X.shape)"
   ]
  },
  {
   "cell_type": "code",
   "execution_count": null,
   "metadata": {},
   "outputs": [],
   "source": []
  }
 ],
 "metadata": {
  "kernelspec": {
   "display_name": "base",
   "language": "python",
   "name": "python3"
  },
  "language_info": {
   "codemirror_mode": {
    "name": "ipython",
    "version": 3
   },
   "file_extension": ".py",
   "mimetype": "text/x-python",
   "name": "python",
   "nbconvert_exporter": "python",
   "pygments_lexer": "ipython3",
   "version": "3.11.0"
  }
 },
 "nbformat": 4,
 "nbformat_minor": 2
}
