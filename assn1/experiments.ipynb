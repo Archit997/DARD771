{
 "cells": [
  {
   "cell_type": "code",
   "execution_count": 16,
   "metadata": {},
   "outputs": [],
   "source": [
    "import numpy as np\n",
    "import sklearn.linear_model as lm\n",
    "import sklearn.svm as svm\n",
    "import time as tm\n",
    "import json\n",
    "import gc\n",
    "import warnings\n",
    "from tqdm import tqdm\n",
    "import matplotlib.pyplot as plt"
   ]
  },
  {
   "cell_type": "code",
   "execution_count": 14,
   "metadata": {},
   "outputs": [],
   "source": [
    "warnings.filterwarnings('ignore')"
   ]
  },
  {
   "cell_type": "code",
   "execution_count": 2,
   "metadata": {},
   "outputs": [
    {
     "name": "stdout",
     "output_type": "stream",
     "text": [
      "X_train.shape (40000, 32)\n",
      "y_train.shape (40000,)\n",
      "X_test.shape (10000, 32)\n",
      "y_test.shape (10000,)\n"
     ]
    }
   ],
   "source": [
    "X_train = np.loadtxt('data/X_train.dat').astype(np.float64)\n",
    "y_train = np.loadtxt('data/y_train.dat').astype(np.float64)\n",
    "X_test = np.loadtxt('data/X_test.dat').astype(np.float64)\n",
    "y_test = np.loadtxt('data/y_test.dat').astype(np.float64)\n",
    "\n",
    "print(f\"X_train.shape {X_train.shape}\")\n",
    "print(f\"y_train.shape {y_train.shape}\")\n",
    "print(f\"X_test.shape {X_test.shape}\")\n",
    "print(f\"y_test.shape {y_test.shape}\")\n"
   ]
  },
  {
   "cell_type": "code",
   "execution_count": 3,
   "metadata": {},
   "outputs": [],
   "source": [
    "def my_map(X):\n",
    "    X = 1-2*X\n",
    "    X_rev = X[:,::-1]\n",
    "    X_prod = np.cumprod(X_rev,axis=1)\n",
    "    X = X_prod[:,::-1]\n",
    "    \n",
    "    n_samples, n_features = X.shape\n",
    "    outer_product = np.einsum('ij,ik->ijk', X, X)\n",
    "    upper_triangle_indices = np.triu_indices(n_features,k=1)\n",
    "    features = outer_product[:, upper_triangle_indices[0], upper_triangle_indices[1]]\n",
    "\n",
    "    result = np.concatenate((X,features),axis=1)\n",
    "\n",
    "    return result"
   ]
  },
  {
   "cell_type": "code",
   "execution_count": 4,
   "metadata": {},
   "outputs": [],
   "source": [
    "X_train = my_map(X_train)\n",
    "X_test = my_map(X_test)"
   ]
  },
  {
   "cell_type": "code",
   "execution_count": 5,
   "metadata": {},
   "outputs": [],
   "source": [
    "def error_time(model,X_train=X_train,X_test=X_test,y_train=y_train,y_test=y_test):\n",
    "    '''Return training time in seconds and error % of model over 5 trials'''\n",
    "    acc=0\n",
    "    t_train=0\n",
    "    for i in range(5):\n",
    "        tic = tm.perf_counter()\n",
    "        gc.collect()\n",
    "        model.fit(X_train,y_train)\n",
    "        w = model.coef_.flatten()\n",
    "        b = model.intercept_\n",
    "        toc = tm.perf_counter()\n",
    "        t_train += toc-tic\n",
    "\n",
    "        gc.collect()\n",
    "        scores = X_test.dot( w ) + b\n",
    "        pred = np.zeros_like( scores )\n",
    "        pred[scores > 0] = 1\n",
    "        acc += np.average( y_test == pred )\n",
    "    \n",
    "    t_train/=5\n",
    "    acc/=5\n",
    "\n",
    "    return (1-acc)*100,t_train\n"
   ]
  },
  {
   "cell_type": "markdown",
   "metadata": {},
   "source": [
    "## L1 and L2 for different solvers in logistic regression\n"
   ]
  },
  {
   "cell_type": "code",
   "execution_count": 6,
   "metadata": {},
   "outputs": [
    {
     "data": {
      "text/plain": [
       "'errors{solver:{None:,l2:,l1:}}'"
      ]
     },
     "execution_count": 6,
     "metadata": {},
     "output_type": "execute_result"
    }
   ],
   "source": [
    "solvers = {\n",
    "    'lbfgs':['l2','None'],\n",
    "    'liblinear':['l1','l2'],\n",
    "    'newton-cg':['l2','None'],\n",
    "    'newton-cholesky':['l2','None'],\n",
    "    'sag':['l2','None'],\n",
    "    'saga':['elasticnet','l1','l2','None']\n",
    "}\n",
    "errors = {}\n",
    "times = {}\n",
    "'''errors{solver:{None:,l2:,l1:}}'''"
   ]
  },
  {
   "cell_type": "code",
   "execution_count": 7,
   "metadata": {},
   "outputs": [
    {
     "name": "stderr",
     "output_type": "stream",
     "text": [
      "/Users/architaggarwal/anaconda3/lib/python3.11/site-packages/scipy/optimize/_linesearch.py:466: LineSearchWarning: The line search algorithm did not converge\n",
      "  warn('The line search algorithm did not converge', LineSearchWarning)\n",
      "/Users/architaggarwal/anaconda3/lib/python3.11/site-packages/scipy/optimize/_linesearch.py:314: LineSearchWarning: The line search algorithm did not converge\n",
      "  warn('The line search algorithm did not converge', LineSearchWarning)\n",
      "/Users/architaggarwal/anaconda3/lib/python3.11/site-packages/sklearn/utils/optimize.py:210: ConvergenceWarning: newton-cg failed to converge. Increase the number of iterations.\n",
      "  warnings.warn(\n",
      "/Users/architaggarwal/anaconda3/lib/python3.11/site-packages/scipy/optimize/_linesearch.py:466: LineSearchWarning: The line search algorithm did not converge\n",
      "  warn('The line search algorithm did not converge', LineSearchWarning)\n",
      "/Users/architaggarwal/anaconda3/lib/python3.11/site-packages/scipy/optimize/_linesearch.py:314: LineSearchWarning: The line search algorithm did not converge\n",
      "  warn('The line search algorithm did not converge', LineSearchWarning)\n",
      "/Users/architaggarwal/anaconda3/lib/python3.11/site-packages/sklearn/utils/optimize.py:210: ConvergenceWarning: newton-cg failed to converge. Increase the number of iterations.\n",
      "  warnings.warn(\n",
      "/Users/architaggarwal/anaconda3/lib/python3.11/site-packages/scipy/optimize/_linesearch.py:466: LineSearchWarning: The line search algorithm did not converge\n",
      "  warn('The line search algorithm did not converge', LineSearchWarning)\n",
      "/Users/architaggarwal/anaconda3/lib/python3.11/site-packages/scipy/optimize/_linesearch.py:314: LineSearchWarning: The line search algorithm did not converge\n",
      "  warn('The line search algorithm did not converge', LineSearchWarning)\n",
      "/Users/architaggarwal/anaconda3/lib/python3.11/site-packages/sklearn/utils/optimize.py:210: ConvergenceWarning: newton-cg failed to converge. Increase the number of iterations.\n",
      "  warnings.warn(\n",
      "/Users/architaggarwal/anaconda3/lib/python3.11/site-packages/scipy/optimize/_linesearch.py:466: LineSearchWarning: The line search algorithm did not converge\n",
      "  warn('The line search algorithm did not converge', LineSearchWarning)\n",
      "/Users/architaggarwal/anaconda3/lib/python3.11/site-packages/scipy/optimize/_linesearch.py:314: LineSearchWarning: The line search algorithm did not converge\n",
      "  warn('The line search algorithm did not converge', LineSearchWarning)\n",
      "/Users/architaggarwal/anaconda3/lib/python3.11/site-packages/sklearn/utils/optimize.py:210: ConvergenceWarning: newton-cg failed to converge. Increase the number of iterations.\n",
      "  warnings.warn(\n",
      "/Users/architaggarwal/anaconda3/lib/python3.11/site-packages/scipy/optimize/_linesearch.py:466: LineSearchWarning: The line search algorithm did not converge\n",
      "  warn('The line search algorithm did not converge', LineSearchWarning)\n",
      "/Users/architaggarwal/anaconda3/lib/python3.11/site-packages/scipy/optimize/_linesearch.py:314: LineSearchWarning: The line search algorithm did not converge\n",
      "  warn('The line search algorithm did not converge', LineSearchWarning)\n",
      "/Users/architaggarwal/anaconda3/lib/python3.11/site-packages/sklearn/utils/optimize.py:210: ConvergenceWarning: newton-cg failed to converge. Increase the number of iterations.\n",
      "  warnings.warn(\n",
      "/Users/architaggarwal/anaconda3/lib/python3.11/site-packages/sklearn/linear_model/_glm/_newton_solver.py:491: LinAlgWarning: The inner solver of NewtonCholeskySolver stumbled upon a singular or very ill-conditioned Hessian matrix at iteration #10. It will now resort to lbfgs instead.\n",
      "Further options are to use another solver or to avoid such situation in the first place. Possible remedies are removing collinear features of X or increasing the penalization strengths.\n",
      "The original Linear Algebra message was:\n",
      "Matrix is singular.\n",
      "  warnings.warn(\n",
      "/Users/architaggarwal/anaconda3/lib/python3.11/site-packages/sklearn/linear_model/_glm/_newton_solver.py:491: LinAlgWarning: The inner solver of NewtonCholeskySolver stumbled upon a singular or very ill-conditioned Hessian matrix at iteration #10. It will now resort to lbfgs instead.\n",
      "Further options are to use another solver or to avoid such situation in the first place. Possible remedies are removing collinear features of X or increasing the penalization strengths.\n",
      "The original Linear Algebra message was:\n",
      "Matrix is singular.\n",
      "  warnings.warn(\n",
      "/Users/architaggarwal/anaconda3/lib/python3.11/site-packages/sklearn/linear_model/_glm/_newton_solver.py:491: LinAlgWarning: The inner solver of NewtonCholeskySolver stumbled upon a singular or very ill-conditioned Hessian matrix at iteration #10. It will now resort to lbfgs instead.\n",
      "Further options are to use another solver or to avoid such situation in the first place. Possible remedies are removing collinear features of X or increasing the penalization strengths.\n",
      "The original Linear Algebra message was:\n",
      "Matrix is singular.\n",
      "  warnings.warn(\n",
      "/Users/architaggarwal/anaconda3/lib/python3.11/site-packages/sklearn/linear_model/_glm/_newton_solver.py:491: LinAlgWarning: The inner solver of NewtonCholeskySolver stumbled upon a singular or very ill-conditioned Hessian matrix at iteration #10. It will now resort to lbfgs instead.\n",
      "Further options are to use another solver or to avoid such situation in the first place. Possible remedies are removing collinear features of X or increasing the penalization strengths.\n",
      "The original Linear Algebra message was:\n",
      "Matrix is singular.\n",
      "  warnings.warn(\n",
      "/Users/architaggarwal/anaconda3/lib/python3.11/site-packages/sklearn/linear_model/_glm/_newton_solver.py:491: LinAlgWarning: The inner solver of NewtonCholeskySolver stumbled upon a singular or very ill-conditioned Hessian matrix at iteration #10. It will now resort to lbfgs instead.\n",
      "Further options are to use another solver or to avoid such situation in the first place. Possible remedies are removing collinear features of X or increasing the penalization strengths.\n",
      "The original Linear Algebra message was:\n",
      "Matrix is singular.\n",
      "  warnings.warn(\n",
      "/Users/architaggarwal/anaconda3/lib/python3.11/site-packages/sklearn/linear_model/_sag.py:350: ConvergenceWarning: The max_iter was reached which means the coef_ did not converge\n",
      "  warnings.warn(\n",
      "/Users/architaggarwal/anaconda3/lib/python3.11/site-packages/sklearn/linear_model/_sag.py:350: ConvergenceWarning: The max_iter was reached which means the coef_ did not converge\n",
      "  warnings.warn(\n",
      "/Users/architaggarwal/anaconda3/lib/python3.11/site-packages/sklearn/linear_model/_sag.py:350: ConvergenceWarning: The max_iter was reached which means the coef_ did not converge\n",
      "  warnings.warn(\n",
      "/Users/architaggarwal/anaconda3/lib/python3.11/site-packages/sklearn/linear_model/_sag.py:350: ConvergenceWarning: The max_iter was reached which means the coef_ did not converge\n",
      "  warnings.warn(\n",
      "/Users/architaggarwal/anaconda3/lib/python3.11/site-packages/sklearn/linear_model/_sag.py:350: ConvergenceWarning: The max_iter was reached which means the coef_ did not converge\n",
      "  warnings.warn(\n",
      "/Users/architaggarwal/anaconda3/lib/python3.11/site-packages/sklearn/linear_model/_sag.py:350: ConvergenceWarning: The max_iter was reached which means the coef_ did not converge\n",
      "  warnings.warn(\n",
      "/Users/architaggarwal/anaconda3/lib/python3.11/site-packages/sklearn/linear_model/_sag.py:350: ConvergenceWarning: The max_iter was reached which means the coef_ did not converge\n",
      "  warnings.warn(\n",
      "/Users/architaggarwal/anaconda3/lib/python3.11/site-packages/sklearn/linear_model/_sag.py:350: ConvergenceWarning: The max_iter was reached which means the coef_ did not converge\n",
      "  warnings.warn(\n",
      "/Users/architaggarwal/anaconda3/lib/python3.11/site-packages/sklearn/linear_model/_sag.py:350: ConvergenceWarning: The max_iter was reached which means the coef_ did not converge\n",
      "  warnings.warn(\n",
      "/Users/architaggarwal/anaconda3/lib/python3.11/site-packages/sklearn/linear_model/_sag.py:350: ConvergenceWarning: The max_iter was reached which means the coef_ did not converge\n",
      "  warnings.warn(\n",
      "/Users/architaggarwal/anaconda3/lib/python3.11/site-packages/sklearn/linear_model/_sag.py:350: ConvergenceWarning: The max_iter was reached which means the coef_ did not converge\n",
      "  warnings.warn(\n",
      "/Users/architaggarwal/anaconda3/lib/python3.11/site-packages/sklearn/linear_model/_sag.py:350: ConvergenceWarning: The max_iter was reached which means the coef_ did not converge\n",
      "  warnings.warn(\n",
      "/Users/architaggarwal/anaconda3/lib/python3.11/site-packages/sklearn/linear_model/_sag.py:350: ConvergenceWarning: The max_iter was reached which means the coef_ did not converge\n",
      "  warnings.warn(\n",
      "/Users/architaggarwal/anaconda3/lib/python3.11/site-packages/sklearn/linear_model/_sag.py:350: ConvergenceWarning: The max_iter was reached which means the coef_ did not converge\n",
      "  warnings.warn(\n",
      "/Users/architaggarwal/anaconda3/lib/python3.11/site-packages/sklearn/linear_model/_sag.py:350: ConvergenceWarning: The max_iter was reached which means the coef_ did not converge\n",
      "  warnings.warn(\n",
      "/Users/architaggarwal/anaconda3/lib/python3.11/site-packages/sklearn/linear_model/_sag.py:350: ConvergenceWarning: The max_iter was reached which means the coef_ did not converge\n",
      "  warnings.warn(\n",
      "/Users/architaggarwal/anaconda3/lib/python3.11/site-packages/sklearn/linear_model/_sag.py:350: ConvergenceWarning: The max_iter was reached which means the coef_ did not converge\n",
      "  warnings.warn(\n",
      "/Users/architaggarwal/anaconda3/lib/python3.11/site-packages/sklearn/linear_model/_sag.py:350: ConvergenceWarning: The max_iter was reached which means the coef_ did not converge\n",
      "  warnings.warn(\n",
      "/Users/architaggarwal/anaconda3/lib/python3.11/site-packages/sklearn/linear_model/_sag.py:350: ConvergenceWarning: The max_iter was reached which means the coef_ did not converge\n",
      "  warnings.warn(\n",
      "/Users/architaggarwal/anaconda3/lib/python3.11/site-packages/sklearn/linear_model/_sag.py:350: ConvergenceWarning: The max_iter was reached which means the coef_ did not converge\n",
      "  warnings.warn(\n",
      "/Users/architaggarwal/anaconda3/lib/python3.11/site-packages/sklearn/linear_model/_sag.py:350: ConvergenceWarning: The max_iter was reached which means the coef_ did not converge\n",
      "  warnings.warn(\n",
      "/Users/architaggarwal/anaconda3/lib/python3.11/site-packages/sklearn/linear_model/_sag.py:350: ConvergenceWarning: The max_iter was reached which means the coef_ did not converge\n",
      "  warnings.warn(\n",
      "/Users/architaggarwal/anaconda3/lib/python3.11/site-packages/sklearn/linear_model/_sag.py:350: ConvergenceWarning: The max_iter was reached which means the coef_ did not converge\n",
      "  warnings.warn(\n",
      "/Users/architaggarwal/anaconda3/lib/python3.11/site-packages/sklearn/linear_model/_sag.py:350: ConvergenceWarning: The max_iter was reached which means the coef_ did not converge\n",
      "  warnings.warn(\n",
      "/Users/architaggarwal/anaconda3/lib/python3.11/site-packages/sklearn/linear_model/_sag.py:350: ConvergenceWarning: The max_iter was reached which means the coef_ did not converge\n",
      "  warnings.warn(\n"
     ]
    }
   ],
   "source": [
    "for solver in tqdm(solvers.keys()):\n",
    "    print('\\n')\n",
    "    print(solver)\n",
    "    penalties = solvers[solver]\n",
    "    err_dict={}\n",
    "    time_dict={}\n",
    "    print('l2')\n",
    "    if 'l2' in penalties:\n",
    "        model = lm.LogisticRegression(solver=solver,penalty='l2')\n",
    "        error,time=error_time(model)\n",
    "        err_dict['l2'] = error\n",
    "        time_dict['l2'] = time\n",
    "    else:\n",
    "        err_dict['l2'] = 0.0\n",
    "        time_dict['l2'] = 0.0\n",
    "    print('l1')\n",
    "    if 'l1' in penalties:\n",
    "        model = lm.LogisticRegression(solver=solver,penalty='l1')\n",
    "        error,time=error_time(model)\n",
    "        err_dict['l1'] = error\n",
    "        time_dict['l1'] = time\n",
    "    else:\n",
    "        err_dict['l1'] = 0.0\n",
    "        time_dict['l1'] = 0.0\n",
    "    print('None')\n",
    "    if 'None' in penalties:\n",
    "        model = lm.LogisticRegression(solver=solver,penalty=None)\n",
    "        error,time=error_time(model)\n",
    "        err_dict['None'] = error\n",
    "        time_dict['None'] = time\n",
    "    else:\n",
    "        err_dict['None'] = 0.0\n",
    "        time_dict['None'] = 0.0\n",
    "    errors[solver] = err_dict\n",
    "    times[solver] = time_dict\n",
    "    \n",
    "        \n"
   ]
  },
  {
   "cell_type": "code",
   "execution_count": 12,
   "metadata": {},
   "outputs": [],
   "source": [
    "save_errors_path = 'logs/LR_solvers_penalty_errors.json'\n",
    "save_times_path = 'logs/LR_solvers_penalty_times.json'\n",
    "with open(save_errors_path,'w') as f:\n",
    "    json.dump(errors,f)\n",
    "with open(save_times_path,'w') as f:\n",
    "    json.dump(times,f)"
   ]
  },
  {
   "cell_type": "code",
   "execution_count": 30,
   "metadata": {},
   "outputs": [
    {
     "data": {
      "image/png": "[encoded data removed]",
      "text/plain": [
       "<Figure size 1000x600 with 1 Axes>"
      ]
     },
     "metadata": {},
     "output_type": "display_data"
    }
   ],
   "source": [
    "solvers = list(errors.keys())\n",
    "penalties = ['None', 'l1', 'l2']  \n",
    "errors['newton-cg']['None'] = 0.0 # for errors>1%\n",
    "\n",
    "none_errors = [errors[solver]['None'] for solver in solvers]\n",
    "l1_errors = [errors[solver]['l1'] for solver in solvers]\n",
    "l2_errors = [errors[solver]['l2'] for solver in solvers]\n",
    "\n",
    "n = len(solvers)  \n",
    "r = np.arange(n)  \n",
    "width = 0.25  \n",
    "\n",
    "plt.figure(figsize=(10, 6))\n",
    "\n",
    "\n",
    "plt.bar(r, none_errors, color='b', width=width, edgecolor='grey', label='None')\n",
    "plt.bar(r + width, l1_errors, color='g', width=width, edgecolor='grey', label='l1')\n",
    "plt.bar(r + 2*width, l2_errors, color='r', width=width, edgecolor='grey', label='l2')\n",
    "\n",
    "plt.xlabel('Solvers', fontweight='bold')\n",
    "plt.xticks([r + width for r in range(n)], solvers)\n",
    "plt.ylabel('Percentage Error')\n",
    "plt.legend()\n",
    "\n",
    "plt.savefig('plots/LR_solvers_penalty_errors.jpg')\n",
    "\n",
    "plt.show()"
   ]
  },
  {
   "cell_type": "code",
   "execution_count": 29,
   "metadata": {},
   "outputs": [
    {
     "data": {
      "image/png": "[encoded data removed]",
      "text/plain": [
       "<Figure size 1000x600 with 1 Axes>"
      ]
     },
     "metadata": {},
     "output_type": "display_data"
    }
   ],
   "source": [
    "solvers = list(times.keys())\n",
    "penalties = ['None', 'l1', 'l2']  \n",
    "# For train_time>20sec\n",
    "times['newton-cg']['None'] = 0.0\n",
    "times['liblinear']['l1'] = 0.0\n",
    "\n",
    "none_errors = [times[solver]['None'] for solver in solvers]\n",
    "l1_errors = [times[solver]['l1'] for solver in solvers]\n",
    "l2_errors = [times[solver]['l2'] for solver in solvers]\n",
    "\n",
    "n = len(solvers)  \n",
    "r = np.arange(n)  \n",
    "width = 0.25 \n",
    "\n",
    "plt.figure(figsize=(10, 6))\n",
    "\n",
    "plt.bar(r, none_errors, color='b', width=width, edgecolor='grey', label='None')\n",
    "plt.bar(r + width, l1_errors, color='g', width=width, edgecolor='grey', label='l1')\n",
    "plt.bar(r + 2*width, l2_errors, color='r', width=width, edgecolor='grey', label='l2')\n",
    "\n",
    "plt.xlabel('Solvers', fontweight='bold')\n",
    "plt.xticks([r + width for r in range(n)], solvers)\n",
    "plt.ylabel('train time (sec)')\n",
    "plt.legend()\n",
    "\n",
    "plt.savefig('plots/LR_solvers_penalty_times.jpg')\n",
    "\n",
    "plt.show()"
   ]
  },
  {
   "cell_type": "code",
   "execution_count": null,
   "metadata": {},
   "outputs": [],
   "source": []
  }
 ],
 "metadata": {
  "kernelspec": {
   "display_name": "base",
   "language": "python",
   "name": "python3"
  },
  "language_info": {
   "codemirror_mode": {
    "name": "ipython",
    "version": 3
   },
   "file_extension": ".py",
   "mimetype": "text/x-python",
   "name": "python",
   "nbconvert_exporter": "python",
   "pygments_lexer": "ipython3",
   "version": "3.11.0"
  }
 },
 "nbformat": 4,
 "nbformat_minor": 2
}
